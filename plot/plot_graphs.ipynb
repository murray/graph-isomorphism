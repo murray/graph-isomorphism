{
 "metadata": {
  "name": "",
  "signature": "sha256:10623a941f4bee6c447d56f14106a85bf5a5b36c2f03dbcc8b5f000672732419"
 },
 "nbformat": 3,
 "nbformat_minor": 0,
 "worksheets": [
  {
   "cells": [
    {
     "cell_type": "code",
     "collapsed": false,
     "input": [
      "import numpy as np\n",
      "import matplotlib.pyplot as plt"
     ],
     "language": "python",
     "metadata": {},
     "outputs": [],
     "prompt_number": 1
    },
    {
     "cell_type": "code",
     "collapsed": false,
     "input": [
      "data = np.genfromtxt('vf2-true-5-200.csv', delimiter=',')"
     ],
     "language": "python",
     "metadata": {},
     "outputs": [],
     "prompt_number": 2
    },
    {
     "cell_type": "code",
     "collapsed": false,
     "input": [
      "plt.plot(data[:,0], data[:,1])\n",
      "plt.xlabel(\"n\")\n",
      "plt.ylabel(\"time (ms)\")\n",
      "plt.title('Run-time for VF2 as a function of the number of nodes')\n",
      "plt.grid(True)\n",
      "plt.show()\n"
     ],
     "language": "python",
     "metadata": {},
     "outputs": [],
     "prompt_number": 3
    }
   ],
   "metadata": {}
  }
 ]
}